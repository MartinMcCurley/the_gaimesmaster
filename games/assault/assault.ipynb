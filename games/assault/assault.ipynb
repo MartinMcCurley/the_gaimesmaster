{
 "cells": [
  {
   "cell_type": "markdown",
   "metadata": {},
   "source": [
    "### Libraries"
   ]
  },
  {
   "cell_type": "code",
   "execution_count": 30,
   "metadata": {},
   "outputs": [],
   "source": [
    "import numpy as np\n",
    "import matplotlib.pyplot as plt\n",
    "%matplotlib inline\n",
    "import gymnasium as gym  # Switch to Gymnasium\n",
    "from IPython import display"
   ]
  },
  {
   "cell_type": "markdown",
   "metadata": {},
   "source": [
    "### Info: Gym interface\n",
    "The three main methods of an environment are\n",
    "\n",
    "- reset(): reset environment to the initial state, return first observation\n",
    "- render(): show current environment state (a more colorful version :) )\n",
    "- step(a): commit action a and return (new_observation, reward, is_done, info)\n",
    "- new_observation: an observation right after committing the action a\n",
    "- reward: a number representing your reward for committing action a\n",
    "- is_done: True if the MDP has just finished, False if still in progress\n",
    "- info: some auxiliary stuff about what just happened. For now, ignore it."
   ]
  },
  {
   "cell_type": "markdown",
   "metadata": {},
   "source": [
    "### Initialize the environment with the render mode set to 'rgb_array'"
   ]
  },
  {
   "cell_type": "code",
   "execution_count": 31,
   "metadata": {},
   "outputs": [],
   "source": [
    "# Create the environment with render_mode set to 'rgb_array'\n",
    "TIME_LIMIT = 250\n",
    "env = gym.make(\"MountainCar-v0\", render_mode=\"rgb_array\")\n",
    "env = gym.wrappers.TimeLimit(env, max_episode_steps=TIME_LIMIT + 1)  # Wrap with TimeLimit\n",
    "\n",
    "# Action mapping\n",
    "actions = {'left': 0, 'stop': 1, 'right': 2}"
   ]
  },
  {
   "cell_type": "markdown",
   "metadata": {},
   "source": [
    "### Define the policy function"
   ]
  },
  {
   "cell_type": "code",
   "execution_count": 32,
   "metadata": {},
   "outputs": [],
   "source": [
    "# Define policy function\n",
    "def policy(obs, t):\n",
    "    position, velocity = obs\n",
    "    return actions['right']"
   ]
  },
  {
   "cell_type": "markdown",
   "metadata": {},
   "source": [
    "### Run the simulation"
   ]
  },
  {
   "cell_type": "code",
   "execution_count": 33,
   "metadata": {},
   "outputs": [
    {
     "data": {
      "image/png": "[encoded data removed]",
      "text/plain": [
       "<Figure size 400x300 with 1 Axes>"
      ]
     },
     "metadata": {},
     "output_type": "display_data"
    }
   ],
   "source": [
    "# Run the simulation\n",
    "plt.figure(figsize=(4, 3))\n",
    "display.clear_output(wait=True)\n",
    "\n",
    "obs, info = env.reset()\n",
    "for t in range(TIME_LIMIT):\n",
    "    plt.gca().clear()\n",
    "\n",
    "    action = policy(obs, t)  # Call your policy\n",
    "    obs, reward, done, truncated, _ = env.step(action)  # Unpack 5 values now\n",
    "\n",
    "    # Draw game image on display\n",
    "    plt.imshow(env.render())  # Render using the 'rgb_array' mode\n",
    "    plt.axis('off')  # Hide the axis for better visualization\n",
    "    display.display(plt.gcf())\n",
    "    display.clear_output(wait=True)\n",
    "\n",
    "    # Check if the episode is over (either done or truncated)\n",
    "    if done or truncated:\n",
    "        print(\"Well done!\")\n",
    "        break\n",
    "else:\n",
    "    print(\"Time limit exceeded. Try again.\")\n",
    "\n",
    "display.clear_output(wait=True)"
   ]
  },
  {
   "cell_type": "code",
   "execution_count": null,
   "metadata": {},
   "outputs": [],
   "source": [
    "assert obs[0] > 0.47\n",
    "print(\"You solved it!\")"
   ]
  }
 ],
 "metadata": {
  "kernelspec": {
   "display_name": "gaimesmasterenv",
   "language": "python",
   "name": "python3"
  },
  "language_info": {
   "codemirror_mode": {
    "name": "ipython",
    "version": 3
   },
   "file_extension": ".py",
   "mimetype": "text/x-python",
   "name": "python",
   "nbconvert_exporter": "python",
   "pygments_lexer": "ipython3",
   "version": "3.11.9"
  }
 },
 "nbformat": 4,
 "nbformat_minor": 2
}
